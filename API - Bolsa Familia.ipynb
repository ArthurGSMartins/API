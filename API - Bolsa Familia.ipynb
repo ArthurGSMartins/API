{
 "cells": [
  {
   "cell_type": "code",
   "execution_count": 54,
   "metadata": {
    "colab": {
     "base_uri": "https://localhost:8080/"
    },
    "id": "PRkvXwrbgS_b",
    "outputId": "28dd7e3d-939f-4b7f-a26a-6eb62ff5f842"
   },
   "outputs": [
    {
     "name": "stdout",
     "output_type": "stream",
     "text": [
      "Município: SÃO PAULO, Valor Total: R$ 471209020.0, Beneficiados: 714927, Valor Médio: R$ 659.10\n",
      "Município: RIO DE JANEIRO, Valor Total: R$ 345534453.0, Beneficiados: 539196, Valor Médio: R$ 640.83\n",
      "Município: BRASÍLIA, Valor Total: R$ 111269007.0, Beneficiados: 165374, Valor Médio: R$ 672.83\n",
      "Município: BELO HORIZONTE, Valor Total: R$ 83045840.0, Beneficiados: 128214, Valor Médio: R$ 647.71\n",
      "Município: CURITIBA, Valor Total: R$ 38093371.0, Beneficiados: 59008, Valor Médio: R$ 645.56\n",
      "Município: OSASCO, Valor Total: R$ 31045665.0, Beneficiados: 46402, Valor Médio: R$ 669.06\n",
      "Município: PORTO ALEGRE, Valor Total: R$ 48820689.0, Beneficiados: 76559, Valor Médio: R$ 637.69\n",
      "Município: MANAUS, Valor Total: R$ 162913917.0, Beneficiados: 236979, Valor Médio: R$ 687.46\n",
      "Município: SALVADOR, Valor Total: R$ 183398446.0, Beneficiados: 291119, Valor Médio: R$ 629.98\n",
      "Município: FORTALEZA, Valor Total: R$ 210376067.0, Beneficiados: 329837, Valor Médio: R$ 637.82\n"
     ]
    }
   ],
   "source": [
    "import requests\n",
    "\n",
    "url = \"https://api.portaldatransparencia.gov.br/api-de-dados/novo-bolsa-familia-por-municipio\"\n",
    "\n",
    "mesAno = 202308\n",
    "\n",
    "codigoIBGE = [\n",
    "    3550308, 3304557, 5300108, 3106200, 4106902,\n",
    "    3534401, 4314902, 1302603, 2927408, 2304400\n",
    "]\n",
    "\n",
    "pagina = 1\n",
    "\n",
    "headers = {\"chave-api-dados\": \"Chave-api\"}\n",
    "\n",
    "for i in range(len(codigoIBGE)):\n",
    "    codigoIbge = codigoIBGE[i]\n",
    "    \n",
    "    params = {\"mesAno\": mesAno, \"codigoIbge\": codigoIbge, \"pagina\": pagina}\n",
    "    \n",
    "    resultado = requests.get(url, params=params, headers=headers)\n",
    "    \n",
    "    # Verificar o status\n",
    "    if resultado.status_code == 200:\n",
    "        try:\n",
    "            rJson = resultado.json()\n",
    "            \n",
    "            if rJson:\n",
    "        \n",
    "                rJson = rJson[0]\n",
    "                \n",
    "                #Nome do município\n",
    "                nomeBF = rJson['municipio']['nomeIBGE']\n",
    "                \n",
    "                #Valor gasto\n",
    "                valorBF = rJson['valor']\n",
    "                \n",
    "                #Qtd\n",
    "                quantBF = rJson['quantidadeBeneficiados']\n",
    "                \n",
    "                valorMed = valorBF / quantBF\n",
    "                \n",
    "                print(f\"Município: {nomeBF}, Valor Total: R$ {valorBF}, Beneficiados: {quantBF}, Valor Médio: R$ {valorMed:.2f}\")\n",
    "            else:\n",
    "                print(f\"Município {codigoIbge}: Nenhum dado disponível.\")\n",
    "        except requests.exceptions.JSONDecodeError:\n",
    "            print(f\"Erro de formatação JSON para o município {codigoIbge}.\")\n",
    "    else:\n",
    "        print(f\"Erro ao consultar o município {codigoIbge}: Status Code {resultado.status_code}\")"
   ]
  },
  {
   "cell_type": "code",
   "execution_count": null,
   "metadata": {},
   "outputs": [],
   "source": []
  }
 ],
 "metadata": {
  "colab": {
   "provenance": []
  },
  "kernelspec": {
   "display_name": "Python 3 (ipykernel)",
   "language": "python",
   "name": "python3"
  },
  "language_info": {
   "codemirror_mode": {
    "name": "ipython",
    "version": 3
   },
   "file_extension": ".py",
   "mimetype": "text/x-python",
   "name": "python",
   "nbconvert_exporter": "python",
   "pygments_lexer": "ipython3",
   "version": "3.12.4"
  }
 },
 "nbformat": 4,
 "nbformat_minor": 4
}
